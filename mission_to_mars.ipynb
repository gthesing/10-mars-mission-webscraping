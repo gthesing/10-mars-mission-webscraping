{
 "cells": [
  {
   "cell_type": "markdown",
   "metadata": {},
   "source": [
    "# Mission to Mars"
   ]
  },
  {
   "cell_type": "markdown",
   "metadata": {},
   "source": [
    "### Resources:\n",
    "* <a href='https://mars.nasa.gov/news/?page=0&per_page=40&order=publish_date+desc%2Ccreated_at+desc&search=&category=19%2C165%2C184%2C204&blank_scope=Latest'>NASA Mars News Site</a>\n",
    "* <a href='https://www.jpl.nasa.gov/spaceimages/?search=&category=Mars'>JPL Featured Space Image</a>\n",
    "* <a href='https://twitter.com/marswxreport?lang=en'>Mars Weather</a>\n",
    "* <a href='https://space-facts.com/mars/'>Mars Facts</a>\n",
    "* <a href='https://astrogeology.usgs.gov/search/results?q=hemisphere+enhanced&k1=target&v1=Mars'>Mars Hemispheres</a>"
   ]
  },
  {
   "cell_type": "markdown",
   "metadata": {},
   "source": [
    "### Dependencies"
   ]
  },
  {
   "cell_type": "code",
   "execution_count": 1,
   "metadata": {},
   "outputs": [],
   "source": [
    "import pandas as pd\n",
    "from splinter import Browser\n",
    "from bs4 import BeautifulSoup as bs"
   ]
  },
  {
   "cell_type": "code",
   "execution_count": 2,
   "metadata": {},
   "outputs": [],
   "source": [
    "# URLs\n",
    "url_nasa = \"https://mars.nasa.gov/news/?page=0&per_page=40&order=publish_date+desc%2Ccreated_at+desc&search=&category=19%2C165%2C184%2C204&blank_scope=Latest\"\n",
    "url_jpl = \"https://www.jpl.nasa.gov/spaceimages/?search=&category=Mars\"\n",
    "url_weather = \"https://twitter.com/marswxreport?lang=en\"\n",
    "url_facts = \"https://space-facts.com/mars/\"\n",
    "url_hemispheres = \"https://astrogeology.usgs.gov/search/results?q=hemisphere+enhanced&k1=target&v1=Mars\""
   ]
  },
  {
   "cell_type": "markdown",
   "metadata": {},
   "source": [
    "### Chromedriver initiation"
   ]
  },
  {
   "cell_type": "code",
   "execution_count": 3,
   "metadata": {},
   "outputs": [],
   "source": [
    "def init_browser():\n",
    "    executable_path = {\"executable_path\": \"chromedriver.exe\"}\n",
    "    return Browser(\"chrome\", **executable_path, headless=False)"
   ]
  },
  {
   "cell_type": "markdown",
   "metadata": {},
   "source": [
    "### NASA Mars News Site"
   ]
  },
  {
   "cell_type": "code",
   "execution_count": 4,
   "metadata": {},
   "outputs": [],
   "source": [
    "def scrape_nasa_mars_news(url):\n",
    "    \n",
    "    browser = init_browser()    \n",
    "    browser.visit(url)\n",
    "    html = browser.html\n",
    "    soup = bs(html, \"html.parser\")\n",
    "    \n",
    "    news_title = soup.find(class_=\"content_title\").get_text()\n",
    "    news_text = soup.find(class_=\"article_teaser_body\").get_text()\n",
    "    \n",
    "    news = {\n",
    "            'news_title': news_title,\n",
    "            'news_text': news_text\n",
    "        }\n",
    "    \n",
    "    browser.quit()\n",
    "    \n",
    "    return news"
   ]
  },
  {
   "cell_type": "markdown",
   "metadata": {},
   "source": [
    "### JPL Featured Space Image"
   ]
  },
  {
   "cell_type": "code",
   "execution_count": 5,
   "metadata": {},
   "outputs": [],
   "source": [
    "def scrape_jpl_featured_space_image(url):\n",
    "    \n",
    "    browser = init_browser()\n",
    "    browser.visit(url)\n",
    "\n",
    "    browser.find_by_id('full_image').click()\n",
    "\n",
    "    html = browser.html\n",
    "    soup = bs(html, \"html.parser\")\n",
    "\n",
    "    image = soup.find(class_='fancybox')['data-fancybox-href']\n",
    "\n",
    "    featured_image_url = 'https://www.jpl.nasa.gov' + image\n",
    "    featured_image_url\n",
    "    \n",
    "    featured_image = {\n",
    "        'featured_image_url': featured_image_url\n",
    "    }\n",
    "    \n",
    "    browser.quit()\n",
    "\n",
    "    return featured_image"
   ]
  },
  {
   "cell_type": "markdown",
   "metadata": {},
   "source": [
    "### Mars Weather"
   ]
  },
  {
   "cell_type": "code",
   "execution_count": 6,
   "metadata": {},
   "outputs": [],
   "source": [
    "def scrape_mars_weather(url):\n",
    "    \n",
    "    browser = init_browser()\n",
    "    browser.visit(url)\n",
    "    html = browser.html\n",
    "    soup = bs(html, \"html.parser\")\n",
    "\n",
    "    weather = soup.find(\"p\", class_=\"tweet-text\").get_text()\n",
    "    \n",
    "    mars_weather = {\n",
    "        'mars_weather_tweet_text': weather\n",
    "    }\n",
    "    \n",
    "    browser.quit()\n",
    "    \n",
    "    return mars_weather"
   ]
  },
  {
   "cell_type": "markdown",
   "metadata": {},
   "source": [
    "### Mars Facts"
   ]
  },
  {
   "cell_type": "code",
   "execution_count": 7,
   "metadata": {},
   "outputs": [],
   "source": [
    "def scrape_mars_facts(url):\n",
    "    \n",
    "    browser = init_browser()\n",
    "    browser.visit(url)\n",
    "\n",
    "    facts = []\n",
    "    c1 = 0\n",
    "    c2 = 0\n",
    "    \n",
    "    ths = browser.find_by_tag(\"th\")\n",
    "    tds = browser.find_by_tag(\"td\")\n",
    "\n",
    "    while c1 < 3:\n",
    "        facts.append(ths[c1].value)\n",
    "        c1 = c1 + 1\n",
    "\n",
    "    while c2 < 18:\n",
    "        facts.append(tds[c2].value)\n",
    "        c2 = c2 + 1\n",
    "        \n",
    "    mars_facts = {\n",
    "        'facts_table': facts\n",
    "    }\n",
    "    \n",
    "    return mars_facts"
   ]
  },
  {
   "cell_type": "markdown",
   "metadata": {},
   "source": [
    "### Mars Hemispheres"
   ]
  },
  {
   "cell_type": "code",
   "execution_count": null,
   "metadata": {},
   "outputs": [],
   "source": [
    "def scrape_mars_hemispheres(url):\n",
    "\n",
    "    browser = init_browser()\n",
    "    browser.visit(url)\n",
    "    html = browser.html\n",
    "    soup = bs(html, \"html.parser\")\n",
    "\n",
    "    links = []\n",
    "    for a in soup.find_all('a', class_='itemLink product-item', href=True):\n",
    "        if a['href'] not in links:\n",
    "            links.append(a['href'])        \n",
    "\n",
    "    hemispheres = {}\n",
    "    \n",
    "    for link in links:\n",
    "\n",
    "        path = 'https://astrogeology.usgs.gov' + link\n",
    "        browser.visit(path)\n",
    "        soup.clear()\n",
    "        html = browser.html\n",
    "        soup = bs(html, \"html.parser\")\n",
    "\n",
    "        title  = soup.find('h2').get_text()\n",
    "        title_temp = title.replace(' Hemisphere Enhanced', '')\n",
    "        title_clean = title_temp.replace(' ', '_')\n",
    "\n",
    "        img_url = 'https://astrogeology.usgs.gov' + soup.find(class_='wide-image')['src']\n",
    "        \n",
    "        hemispheres[title_clean] = img_url\n",
    "            \n",
    "    browser.quit()\n",
    "    \n",
    "    return hemispheres"
   ]
  },
  {
   "cell_type": "markdown",
   "metadata": {},
   "source": [
    "\n",
    "### Scrape function"
   ]
  },
  {
   "cell_type": "code",
   "execution_count": null,
   "metadata": {},
   "outputs": [],
   "source": [
    "def scrape_all():\n",
    "    mars_data = {}\n",
    "    \n",
    "#     News\n",
    "    news = scrape_nasa_mars_news(url_nasa)\n",
    "    mars_data['news'] = news\n",
    "    \n",
    "#     JPL\n",
    "    featured_image = scrape_jpl_featured_space_image(url_jpl)\n",
    "    mars_data['jpl'] = featured_image\n",
    "    \n",
    "#     Weather\n",
    "    mars_weather = scrape_mars_weather(url_weather)\n",
    "    mars_data['weather'] = mars_weather\n",
    "    \n",
    "#     Facts\n",
    "    mars_facts = scrape_mars_facts(url_facts)\n",
    "    mars_data['facts'] = mars_facts\n",
    "    \n",
    "#     Hemispheres\n",
    "    hemispheres = scrape_mars_hemispheres(url_hemispheres)\n",
    "    mars_data['hemispheres'] = hemispheres\n",
    "        \n",
    "    return mars_data"
   ]
  },
  {
   "cell_type": "code",
   "execution_count": null,
   "metadata": {},
   "outputs": [],
   "source": [
    "mars_data = scrape_all()"
   ]
  },
  {
   "cell_type": "code",
   "execution_count": null,
   "metadata": {},
   "outputs": [],
   "source": [
    "print(mars_data)"
   ]
  },
  {
   "cell_type": "code",
   "execution_count": null,
   "metadata": {},
   "outputs": [],
   "source": []
  }
 ],
 "metadata": {
  "kernelspec": {
   "display_name": "ut_data",
   "language": "python",
   "name": "ut_data"
  },
  "language_info": {
   "codemirror_mode": {
    "name": "ipython",
    "version": 3
   },
   "file_extension": ".py",
   "mimetype": "text/x-python",
   "name": "python",
   "nbconvert_exporter": "python",
   "pygments_lexer": "ipython3",
   "version": "3.7.2"
  }
 },
 "nbformat": 4,
 "nbformat_minor": 2
}
